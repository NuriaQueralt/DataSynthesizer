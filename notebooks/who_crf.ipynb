{
 "cells": [
  {
   "cell_type": "code",
   "execution_count": null,
   "metadata": {},
   "outputs": [],
   "source": [
    "# @name: who_crf_correlated_mode\n",
    "# @description: Notebook to experiment with DataSynthesizer package - correlated mode\n",
    "# @author: Núria Queralt Rosinach\n",
    "# @date: 10-09-2020\n",
    "# @version: v1"
   ]
  },
  {
   "cell_type": "markdown",
   "metadata": {},
   "source": [
    "# DataSynthesizer Practice: correlated mode\n",
    "\n",
    "To generate a synthetic dataset that preserves some data structure similarity with the real data and data privacy by implementing a differentially private mechanism. \n",
    "\n",
    "* It preserves per-attribute probability distributions, i.e. histogram frequencies (Comparison by histrograms)\n",
    "* It preserves pair-wise attribute correlations, i.e. a bayesian network models correlations between attributes (Comparison by heatmaps)\n",
    "\n",
    "### 1. Import"
   ]
  },
  {
   "cell_type": "code",
   "execution_count": 1,
   "metadata": {},
   "outputs": [],
   "source": [
    "from DataSynthesizer.DataDescriber import DataDescriber\n",
    "from DataSynthesizer.DataGenerator import DataGenerator\n",
    "from DataSynthesizer.ModelInspector import ModelInspector\n",
    "from DataSynthesizer.lib.utils import read_json_file, display_bayesian_network\n",
    "\n",
    "import pandas as pd\n",
    "import os"
   ]
  },
  {
   "cell_type": "markdown",
   "metadata": {},
   "source": [
    "### 2. User-defined parameters"
   ]
  },
  {
   "cell_type": "code",
   "execution_count": null,
   "metadata": {},
   "outputs": [],
   "source": [
    "# input dataset\n",
    "input_data = './data/adult_ssn.csv'\n",
    "\n",
    "# location of two output files\n",
    "mode = 'correlated_attribute_mode'\n",
    "description_file = f'./out/{mode}/description.json'\n",
    "synthetic_data = f'./out/{mode}/synthetic_data.csv'\n",
    "\n",
    "# create output dir\n",
    "outdir = os.getcwd() + f'/out/{mode}'\n",
    "if not os.path.isdir(outdir): os.makedirs(outdir)"
   ]
  },
  {
   "cell_type": "code",
   "execution_count": null,
   "metadata": {},
   "outputs": [],
   "source": []
  },
  {
   "cell_type": "code",
   "execution_count": null,
   "metadata": {},
   "outputs": [],
   "source": []
  },
  {
   "cell_type": "code",
   "execution_count": null,
   "metadata": {},
   "outputs": [],
   "source": []
  },
  {
   "cell_type": "code",
   "execution_count": null,
   "metadata": {},
   "outputs": [],
   "source": []
  },
  {
   "cell_type": "code",
   "execution_count": null,
   "metadata": {},
   "outputs": [],
   "source": []
  },
  {
   "cell_type": "code",
   "execution_count": null,
   "metadata": {},
   "outputs": [],
   "source": []
  }
 ],
 "metadata": {
  "kernelspec": {
   "display_name": "Python 3",
   "language": "python",
   "name": "python3"
  },
  "language_info": {
   "codemirror_mode": {
    "name": "ipython",
    "version": 3
   },
   "file_extension": ".py",
   "mimetype": "text/x-python",
   "name": "python",
   "nbconvert_exporter": "python",
   "pygments_lexer": "ipython3",
   "version": "3.8.5"
  }
 },
 "nbformat": 4,
 "nbformat_minor": 4
}
